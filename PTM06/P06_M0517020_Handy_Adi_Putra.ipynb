{
  "nbformat": 4,
  "nbformat_minor": 0,
  "metadata": {
    "colab": {
      "name": "P06_M0517020_Handy Adi Putra.ipynb",
      "version": "0.3.2",
      "provenance": [],
      "collapsed_sections": []
    },
    "kernelspec": {
      "name": "python3",
      "display_name": "Python 3"
    },
    "accelerator": "GPU"
  },
  "cells": [
    {
      "cell_type": "code",
      "metadata": {
        "id": "fORc-aFdfQlt",
        "colab_type": "code",
        "colab": {}
      },
      "source": [
        "import numpy as np\n",
        "import torch\n",
        "import torch.optim as optim\n",
        "\n",
        "from torch import nn\n",
        "from torchvision import datasets, transforms"
      ],
      "execution_count": 0,
      "outputs": []
    },
    {
      "cell_type": "code",
      "metadata": {
        "id": "AfjL81H7fngY",
        "colab_type": "code",
        "colab": {
          "base_uri": "https://localhost:8080/",
          "height": 34
        },
        "outputId": "ba9f245c-7f51-473b-b4fa-3fd7fe076f7a"
      },
      "source": [
        "torch.cuda.is_available()"
      ],
      "execution_count": 2,
      "outputs": [
        {
          "output_type": "execute_result",
          "data": {
            "text/plain": [
              "True"
            ]
          },
          "metadata": {
            "tags": []
          },
          "execution_count": 2
        }
      ]
    },
    {
      "cell_type": "code",
      "metadata": {
        "id": "OvzIWggZfsC-",
        "colab_type": "code",
        "colab": {}
      },
      "source": [
        "class MLP(nn.Module):\n",
        "  \n",
        "  def __init__(self, in_feats, out_feats):\n",
        "    super(MLP, self).__init__()\n",
        "    \n",
        "    layer_1 = [\n",
        "        nn.Linear(in_feats, in_feats*2),\n",
        "        nn.Sigmoid()\n",
        "    ]\n",
        "    \n",
        "    layer_2 = [\n",
        "        nn.Linear(in_feats*2, in_feats),\n",
        "        nn.Sigmoid()\n",
        "    ]\n",
        "    \n",
        "    layer_3 = [\n",
        "        nn.Linear(in_feats, out_feats),\n",
        "        nn.Softmax()\n",
        "    ]\n",
        "    \n",
        "    self.nets = nn.Sequential(*layer_1, *layer_2, *layer_3)\n",
        "    \n",
        "  def forward(self, x):\n",
        "    out = self.nets(x)\n",
        "    return out"
      ],
      "execution_count": 0,
      "outputs": []
    },
    {
      "cell_type": "code",
      "metadata": {
        "id": "Xp1E4uv-gfd_",
        "colab_type": "code",
        "colab": {
          "base_uri": "https://localhost:8080/",
          "height": 122
        },
        "outputId": "693d1f2f-ed64-4a6c-c69b-c72b22cb7a18"
      },
      "source": [
        "x = np.arange(4*3).reshape(3,4)\n",
        "x = torch.Tensor(x)\n",
        "net = MLP(4, 1)\n",
        "net(x)"
      ],
      "execution_count": 6,
      "outputs": [
        {
          "output_type": "stream",
          "text": [
            "/usr/local/lib/python3.6/dist-packages/torch/nn/modules/container.py:92: UserWarning: Implicit dimension choice for softmax has been deprecated. Change the call to include dim=X as an argument.\n",
            "  input = module(input)\n"
          ],
          "name": "stderr"
        },
        {
          "output_type": "execute_result",
          "data": {
            "text/plain": [
              "tensor([[1.],\n",
              "        [1.],\n",
              "        [1.]], grad_fn=<SoftmaxBackward>)"
            ]
          },
          "metadata": {
            "tags": []
          },
          "execution_count": 6
        }
      ]
    },
    {
      "cell_type": "code",
      "metadata": {
        "id": "6Gd_WER3g3mT",
        "colab_type": "code",
        "colab": {}
      },
      "source": [
        "BATCH_SIZE = 32\n",
        "EPOCH = 80\n",
        "LR = 5E-3\n",
        "MOMENT = 0.9\n",
        "EVAL_STEP = 2"
      ],
      "execution_count": 0,
      "outputs": []
    },
    {
      "cell_type": "code",
      "metadata": {
        "id": "UnP8zDebhenh",
        "colab_type": "code",
        "colab": {
          "base_uri": "https://localhost:8080/",
          "height": 34
        },
        "outputId": "4c3ba28b-dd99-42c6-8403-06df61fa7964"
      },
      "source": [
        "trans = transforms.Compose([\n",
        "    transforms.ToTensor(),\n",
        "    transforms.Normalize((0.0,), (1.0,))\n",
        "])\n",
        "\n",
        "train_set = datasets.MNIST(\n",
        "    root='', train=True, \n",
        "    transform=trans, download=True\n",
        ")\n",
        "\n",
        "test_set = datasets.MNIST(\n",
        "    root='', train=False, \n",
        "    transform=trans, download=True\n",
        ")\n",
        "\n",
        "train_loader = torch.utils.data.DataLoader(\n",
        "    dataset=train_set, batch_size=BATCH_SIZE,\n",
        "    shuffle=True\n",
        ")\n",
        "\n",
        "test_loader = torch.utils.data.DataLoader(\n",
        "    dataset=test_set, batch_size=BATCH_SIZE,\n",
        "    shuffle=False\n",
        ")\n",
        "\n",
        "print(len(train_loader), len(test_loader))"
      ],
      "execution_count": 20,
      "outputs": [
        {
          "output_type": "stream",
          "text": [
            "1875 313\n"
          ],
          "name": "stdout"
        }
      ]
    },
    {
      "cell_type": "code",
      "metadata": {
        "id": "axcuwKLskCF7",
        "colab_type": "code",
        "colab": {}
      },
      "source": [
        "net = MLP(784, 10)\n",
        "net = net.cuda()\n",
        "\n",
        "optimizer = optim.SGD(net.parameters(), lr=LR, momentum=MOMENT)\n",
        "criterion = nn.CrossEntropyLoss()"
      ],
      "execution_count": 0,
      "outputs": []
    },
    {
      "cell_type": "code",
      "metadata": {
        "id": "0D3Yk2dRnmeN",
        "colab_type": "code",
        "colab": {}
      },
      "source": [
        "def train(net, criterion, optim, loader, epoch):\n",
        "  net.train()\n",
        "  total_loss = 0\n",
        "  for data, label in loader:\n",
        "    batch_size = data.size(0)\n",
        "    \n",
        "    optim.zero_grad()\n",
        "    data, label = data.cuda(), label.cuda()\n",
        "    data = data.view(batch_size, -1)\n",
        "    out = net(data)\n",
        "    loss = criterion(out, label)\n",
        "    \n",
        "    total_loss += loss.item()\n",
        "    \n",
        "    loss.backward()\n",
        "    optim.step()\n",
        "    \n",
        "  print(\"[%03d/%03d] avg loss: %0.4f\" %(epoch, EPOCH, total_loss/len(loader)))\n",
        "  \n",
        "def test(net, loader):\n",
        "  net.eval()\n",
        "  pred = []\n",
        "  target = []\n",
        "  for data, label in loader:\n",
        "    batch_size = data.size(0)\n",
        "    data = data.view(batch_size, -1)\n",
        "    data = data.cuda()\n",
        "    \n",
        "    pred_batch = net(data)\n",
        "    pred_batch = pred_batch.to('cpu').detach().numpy()\n",
        "    pred_batch = np.argmax(pred_batch, 1)\n",
        "    \n",
        "    pred.append(pred_batch)\n",
        "    target.append(label.numpy())\n",
        "    \n",
        "    pred = np.concatenate(pred)\n",
        "    target = np.concatenate(target)\n",
        "    acc = (np.sum(pred == target) / len(pred))\n",
        "    \n",
        "    return pred, target, acc\n",
        "    "
      ],
      "execution_count": 0,
      "outputs": []
    },
    {
      "cell_type": "code",
      "metadata": {
        "id": "Y71ICJqssT5Q",
        "colab_type": "code",
        "colab": {
          "base_uri": "https://localhost:8080/",
          "height": 2111
        },
        "outputId": "ff1914a1-f5dc-42cf-85c9-902344ef87f9"
      },
      "source": [
        "prediction = None\n",
        "target = None\n",
        "for epoch in range(1, EPOCH+1):\n",
        "  train(net, criterion, optimizer, train_loader, epoch)\n",
        "  if epoch % EVAL_STEP == 0:\n",
        "    with torch.no_grad():\n",
        "      prediction, target, acc = test(net, test_loader)\n",
        "      print(acc)"
      ],
      "execution_count": 29,
      "outputs": [
        {
          "output_type": "stream",
          "text": [
            "/usr/local/lib/python3.6/dist-packages/torch/nn/modules/container.py:92: UserWarning: Implicit dimension choice for softmax has been deprecated. Change the call to include dim=X as an argument.\n",
            "  input = module(input)\n"
          ],
          "name": "stderr"
        },
        {
          "output_type": "stream",
          "text": [
            "[001/080] avg loss: 2.2937\n",
            "[002/080] avg loss: 2.2076\n",
            "0.40625\n",
            "[003/080] avg loss: 2.1014\n",
            "[004/080] avg loss: 2.0080\n",
            "0.6875\n",
            "[005/080] avg loss: 1.9277\n",
            "[006/080] avg loss: 1.8955\n",
            "0.71875\n",
            "[007/080] avg loss: 1.8638\n",
            "[008/080] avg loss: 1.8370\n",
            "0.6875\n",
            "[009/080] avg loss: 1.8248\n",
            "[010/080] avg loss: 1.8163\n",
            "0.65625\n",
            "[011/080] avg loss: 1.8092\n",
            "[012/080] avg loss: 1.8027\n",
            "0.6875\n",
            "[013/080] avg loss: 1.7927\n",
            "[014/080] avg loss: 1.7526\n",
            "0.8125\n",
            "[015/080] avg loss: 1.7365\n",
            "[016/080] avg loss: 1.7290\n",
            "0.84375\n",
            "[017/080] avg loss: 1.7240\n",
            "[018/080] avg loss: 1.7206\n",
            "0.875\n",
            "[019/080] avg loss: 1.7178\n",
            "[020/080] avg loss: 1.7156\n",
            "0.875\n",
            "[021/080] avg loss: 1.7139\n",
            "[022/080] avg loss: 1.7123\n",
            "0.875\n",
            "[023/080] avg loss: 1.7109\n",
            "[024/080] avg loss: 1.7099\n",
            "0.875\n",
            "[025/080] avg loss: 1.7088\n",
            "[026/080] avg loss: 1.7079\n",
            "0.875\n",
            "[027/080] avg loss: 1.7070\n",
            "[028/080] avg loss: 1.7063\n",
            "0.875\n",
            "[029/080] avg loss: 1.7055\n",
            "[030/080] avg loss: 1.7049\n",
            "0.875\n",
            "[031/080] avg loss: 1.7042\n",
            "[032/080] avg loss: 1.7036\n",
            "0.875\n",
            "[033/080] avg loss: 1.7032\n",
            "[034/080] avg loss: 1.7024\n",
            "0.875\n",
            "[035/080] avg loss: 1.7021\n",
            "[036/080] avg loss: 1.7016\n",
            "0.875\n",
            "[037/080] avg loss: 1.7013\n",
            "[038/080] avg loss: 1.7009\n",
            "0.875\n",
            "[039/080] avg loss: 1.7004\n",
            "[040/080] avg loss: 1.7001\n",
            "0.875\n",
            "[041/080] avg loss: 1.6997\n",
            "[042/080] avg loss: 1.6995\n",
            "0.875\n",
            "[043/080] avg loss: 1.6992\n",
            "[044/080] avg loss: 1.6988\n",
            "0.875\n",
            "[045/080] avg loss: 1.6986\n",
            "[046/080] avg loss: 1.6982\n",
            "0.875\n",
            "[047/080] avg loss: 1.6979\n",
            "[048/080] avg loss: 1.6976\n",
            "0.875\n",
            "[049/080] avg loss: 1.6973\n",
            "[050/080] avg loss: 1.6971\n",
            "0.875\n",
            "[051/080] avg loss: 1.6967\n",
            "[052/080] avg loss: 1.6965\n",
            "0.875\n",
            "[053/080] avg loss: 1.6962\n",
            "[054/080] avg loss: 1.6960\n",
            "0.875\n",
            "[055/080] avg loss: 1.6958\n",
            "[056/080] avg loss: 1.6955\n",
            "0.875\n",
            "[057/080] avg loss: 1.6953\n",
            "[058/080] avg loss: 1.6949\n",
            "0.875\n",
            "[059/080] avg loss: 1.6948\n",
            "[060/080] avg loss: 1.6946\n",
            "0.875\n",
            "[061/080] avg loss: 1.6945\n",
            "[062/080] avg loss: 1.6940\n",
            "0.875\n",
            "[063/080] avg loss: 1.6940\n",
            "[064/080] avg loss: 1.6937\n",
            "0.875\n",
            "[065/080] avg loss: 1.6935\n",
            "[066/080] avg loss: 1.6932\n",
            "0.875\n",
            "[067/080] avg loss: 1.6930\n",
            "[068/080] avg loss: 1.6929\n",
            "0.875\n",
            "[069/080] avg loss: 1.6928\n",
            "[070/080] avg loss: 1.6924\n",
            "0.875\n",
            "[071/080] avg loss: 1.6923\n",
            "[072/080] avg loss: 1.6920\n",
            "0.875\n",
            "[073/080] avg loss: 1.6920\n",
            "[074/080] avg loss: 1.6916\n",
            "0.875\n",
            "[075/080] avg loss: 1.6915\n",
            "[076/080] avg loss: 1.6912\n",
            "0.875\n",
            "[077/080] avg loss: 1.6912\n",
            "[078/080] avg loss: 1.6909\n",
            "0.875\n",
            "[079/080] avg loss: 1.6907\n",
            "[080/080] avg loss: 1.6906\n",
            "0.875\n"
          ],
          "name": "stdout"
        }
      ]
    },
    {
      "cell_type": "code",
      "metadata": {
        "id": "L0E0w8F1tx1h",
        "colab_type": "code",
        "colab": {}
      },
      "source": [
        ""
      ],
      "execution_count": 0,
      "outputs": []
    }
  ]
}