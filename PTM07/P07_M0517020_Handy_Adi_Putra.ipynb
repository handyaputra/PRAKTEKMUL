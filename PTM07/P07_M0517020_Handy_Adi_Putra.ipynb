{
  "nbformat": 4,
  "nbformat_minor": 0,
  "metadata": {
    "colab": {
      "name": "P07_M0517020_Handy Adi Putra.ipynb",
      "version": "0.3.2",
      "provenance": [],
      "collapsed_sections": []
    },
    "kernelspec": {
      "name": "python3",
      "display_name": "Python 3"
    },
    "accelerator": "GPU"
  },
  "cells": [
    {
      "cell_type": "code",
      "metadata": {
        "id": "fORc-aFdfQlt",
        "colab_type": "code",
        "colab": {}
      },
      "source": [
        "import numpy as np\n",
        "import torch\n",
        "import torch.optim as optim\n",
        "\n",
        "from torch import nn\n",
        "from torchvision import datasets, transforms"
      ],
      "execution_count": 0,
      "outputs": []
    },
    {
      "cell_type": "code",
      "metadata": {
        "id": "AfjL81H7fngY",
        "colab_type": "code",
        "outputId": "4f63fd74-4311-417e-ead4-22c1ae93f43b",
        "colab": {
          "base_uri": "https://localhost:8080/",
          "height": 34
        }
      },
      "source": [
        "torch.cuda.is_available()"
      ],
      "execution_count": 3,
      "outputs": [
        {
          "output_type": "execute_result",
          "data": {
            "text/plain": [
              "True"
            ]
          },
          "metadata": {
            "tags": []
          },
          "execution_count": 3
        }
      ]
    },
    {
      "cell_type": "code",
      "metadata": {
        "id": "-uCYOfzFPQcw",
        "colab_type": "code",
        "colab": {
          "base_uri": "https://localhost:8080/",
          "height": 34
        },
        "outputId": "70ae6e7f-d3e7-4230-daf5-df0eb35b7f33"
      },
      "source": [
        "in_feat = np.arange(1*1*28*28).reshape(1,1,28,28)\n",
        "in_feat = torch.FloatTensor(in_feat)\n",
        "print(in_feat.size())"
      ],
      "execution_count": 4,
      "outputs": [
        {
          "output_type": "stream",
          "text": [
            "torch.Size([1, 1, 28, 28])\n"
          ],
          "name": "stdout"
        }
      ]
    },
    {
      "cell_type": "code",
      "metadata": {
        "id": "5RyY3x2ePyFi",
        "colab_type": "code",
        "colab": {
          "base_uri": "https://localhost:8080/",
          "height": 34
        },
        "outputId": "fcc9e516-7fdf-4c21-f366-7167efa361fb"
      },
      "source": [
        "conv_layer = nn.Conv2d(1,3,3)\n",
        "out_feat = conv_layer(in_feat)\n",
        "print(out_feat.size())"
      ],
      "execution_count": 5,
      "outputs": [
        {
          "output_type": "stream",
          "text": [
            "torch.Size([1, 3, 26, 26])\n"
          ],
          "name": "stdout"
        }
      ]
    },
    {
      "cell_type": "code",
      "metadata": {
        "id": "cchfr1oYQe9t",
        "colab_type": "code",
        "colab": {
          "base_uri": "https://localhost:8080/",
          "height": 34
        },
        "outputId": "6fbc2308-a33e-4828-d7b1-ff2c93875c27"
      },
      "source": [
        "conv_layer = nn.Conv2d(in_channels=1, out_channels=3, kernel_size=[3,2], stride=[1,2])\n",
        "out_feat = conv_layer(in_feat)\n",
        "print(out_feat.size())"
      ],
      "execution_count": 7,
      "outputs": [
        {
          "output_type": "stream",
          "text": [
            "torch.Size([1, 3, 26, 14])\n"
          ],
          "name": "stdout"
        }
      ]
    },
    {
      "cell_type": "code",
      "metadata": {
        "id": "bKMj2EhmRYya",
        "colab_type": "code",
        "colab": {
          "base_uri": "https://localhost:8080/",
          "height": 34
        },
        "outputId": "e6e0a12f-437b-493f-913d-5718a8258649"
      },
      "source": [
        "pool_layer = nn.MaxPool2d(kernel_size=[2,2], stride=[2,2])\n",
        "pool_out = pool_layer(out_feat)\n",
        "print(pool_out.size())"
      ],
      "execution_count": 9,
      "outputs": [
        {
          "output_type": "stream",
          "text": [
            "torch.Size([1, 3, 13, 7])\n"
          ],
          "name": "stdout"
        }
      ]
    },
    {
      "cell_type": "code",
      "metadata": {
        "id": "AY_siVSSSaSB",
        "colab_type": "code",
        "colab": {
          "base_uri": "https://localhost:8080/",
          "height": 714
        },
        "outputId": "20b587a7-643f-4e93-f83e-c64499f8ad8a"
      },
      "source": [
        "print(nn.functional.relu(out_feat))"
      ],
      "execution_count": 11,
      "outputs": [
        {
          "output_type": "stream",
          "text": [
            "tensor([[[[5.9096e-01, 2.1677e-01, 0.0000e+00,  ..., 0.0000e+00,\n",
            "           0.0000e+00, 0.0000e+00],\n",
            "          [0.0000e+00, 0.0000e+00, 0.0000e+00,  ..., 0.0000e+00,\n",
            "           0.0000e+00, 0.0000e+00],\n",
            "          [0.0000e+00, 0.0000e+00, 0.0000e+00,  ..., 0.0000e+00,\n",
            "           0.0000e+00, 0.0000e+00],\n",
            "          ...,\n",
            "          [0.0000e+00, 0.0000e+00, 0.0000e+00,  ..., 0.0000e+00,\n",
            "           0.0000e+00, 0.0000e+00],\n",
            "          [0.0000e+00, 0.0000e+00, 0.0000e+00,  ..., 0.0000e+00,\n",
            "           0.0000e+00, 0.0000e+00],\n",
            "          [0.0000e+00, 0.0000e+00, 0.0000e+00,  ..., 0.0000e+00,\n",
            "           0.0000e+00, 0.0000e+00]],\n",
            "\n",
            "         [[2.0435e+01, 2.2859e+01, 2.5282e+01,  ..., 4.7092e+01,\n",
            "           4.9516e+01, 5.1939e+01],\n",
            "          [5.4362e+01, 5.6786e+01, 5.9209e+01,  ..., 8.1019e+01,\n",
            "           8.3443e+01, 8.5866e+01],\n",
            "          [8.8289e+01, 9.0713e+01, 9.3136e+01,  ..., 1.1495e+02,\n",
            "           1.1737e+02, 1.1979e+02],\n",
            "          ...,\n",
            "          [8.0076e+02, 8.0318e+02, 8.0560e+02,  ..., 8.2741e+02,\n",
            "           8.2984e+02, 8.3226e+02],\n",
            "          [8.3468e+02, 8.3711e+02, 8.3953e+02,  ..., 8.6134e+02,\n",
            "           8.6376e+02, 8.6619e+02],\n",
            "          [8.6861e+02, 8.7103e+02, 8.7346e+02,  ..., 8.9527e+02,\n",
            "           8.9769e+02, 9.0011e+02]],\n",
            "\n",
            "         [[4.5416e+01, 4.6379e+01, 4.7342e+01,  ..., 5.6010e+01,\n",
            "           5.6974e+01, 5.7937e+01],\n",
            "          [5.8900e+01, 5.9863e+01, 6.0826e+01,  ..., 6.9494e+01,\n",
            "           7.0457e+01, 7.1420e+01],\n",
            "          [7.2384e+01, 7.3347e+01, 7.4310e+01,  ..., 8.2978e+01,\n",
            "           8.3941e+01, 8.4904e+01],\n",
            "          ...,\n",
            "          [3.5554e+02, 3.5651e+02, 3.5747e+02,  ..., 3.6614e+02,\n",
            "           3.6710e+02, 3.6806e+02],\n",
            "          [3.6903e+02, 3.6999e+02, 3.7095e+02,  ..., 3.7962e+02,\n",
            "           3.8058e+02, 3.8155e+02],\n",
            "          [3.8251e+02, 3.8347e+02, 3.8444e+02,  ..., 3.9311e+02,\n",
            "           3.9407e+02, 3.9503e+02]]]], grad_fn=<ReluBackward0>)\n"
          ],
          "name": "stdout"
        }
      ]
    },
    {
      "cell_type": "code",
      "metadata": {
        "id": "OvzIWggZfsC-",
        "colab_type": "code",
        "colab": {}
      },
      "source": [
        "class Net(nn.Module):\n",
        "  \n",
        "  def __init__(self, out_feats):\n",
        "    super(Net, self).__init__()\n",
        "    \n",
        "    conv_1 = [\n",
        "        nn.Conv2d(1, 8, kernel_size=[3, 3], stride=[1, 1]),\n",
        "        nn.ReLU(),\n",
        "        nn.MaxPool2d(kernel_size=[2, 2], stride=[2, 2])\n",
        "    ]\n",
        "    \n",
        "    conv_2 = [\n",
        "        nn.Conv2d(8, 16, kernel_size=[4, 4], stride=[1, 1]),\n",
        "        nn.ReLU(),\n",
        "        nn.MaxPool2d(kernel_size=[2, 2], stride=[2, 2])\n",
        "    ]\n",
        "    \n",
        "    conv_3 = [\n",
        "        nn.Conv2d(16, 32, kernel_size=[3, 3], stride=[1, 1]),\n",
        "        nn.ReLU()\n",
        "    ]\n",
        "    \n",
        "    self.conv_layers = nn.Sequential(*conv_1, *conv_2, *conv_3)\n",
        "    \n",
        "    in_feats = 32*3*3\n",
        "    \n",
        "    layer_1 = [\n",
        "        nn.Linear(in_feats, in_feats*2),\n",
        "        nn.Sigmoid()\n",
        "    ]\n",
        "    \n",
        "    layer_2 = [\n",
        "        nn.Linear(in_feats*2, in_feats),\n",
        "        nn.Sigmoid()\n",
        "    ]\n",
        "    \n",
        "    layer_3 = [\n",
        "        nn.Linear(in_feats, out_feats),\n",
        "        nn.Softmax()\n",
        "    ]\n",
        "    \n",
        "    self.classifier = nn.Sequential(*layer_1, *layer_2, *layer_3)\n",
        "    \n",
        "  def forward(self, x):\n",
        "    out = self.conv_layers(x)\n",
        "    \n",
        "    batch_size = x.size(0)\n",
        "    out = out.view(batch_size, -1)\n",
        "    \n",
        "    out = self.classifier(out)\n",
        "    return out"
      ],
      "execution_count": 0,
      "outputs": []
    },
    {
      "cell_type": "code",
      "metadata": {
        "id": "Xp1E4uv-gfd_",
        "colab_type": "code",
        "outputId": "693d1f2f-ed64-4a6c-c69b-c72b22cb7a18",
        "colab": {
          "base_uri": "https://localhost:8080/",
          "height": 122
        }
      },
      "source": [
        "x = np.arange(4*3).reshape(3,4)\n",
        "x = torch.Tensor(x)\n",
        "net = MLP(4, 1)\n",
        "net(x)"
      ],
      "execution_count": 0,
      "outputs": [
        {
          "output_type": "stream",
          "text": [
            "/usr/local/lib/python3.6/dist-packages/torch/nn/modules/container.py:92: UserWarning: Implicit dimension choice for softmax has been deprecated. Change the call to include dim=X as an argument.\n",
            "  input = module(input)\n"
          ],
          "name": "stderr"
        },
        {
          "output_type": "execute_result",
          "data": {
            "text/plain": [
              "tensor([[1.],\n",
              "        [1.],\n",
              "        [1.]], grad_fn=<SoftmaxBackward>)"
            ]
          },
          "metadata": {
            "tags": []
          },
          "execution_count": 6
        }
      ]
    },
    {
      "cell_type": "code",
      "metadata": {
        "id": "6Gd_WER3g3mT",
        "colab_type": "code",
        "colab": {}
      },
      "source": [
        "BATCH_SIZE = 32\n",
        "EPOCH = 80\n",
        "LR = 5E-3\n",
        "MOMENT = 0.9\n",
        "EVAL_STEP = 2"
      ],
      "execution_count": 0,
      "outputs": []
    },
    {
      "cell_type": "code",
      "metadata": {
        "id": "UnP8zDebhenh",
        "colab_type": "code",
        "outputId": "141c791d-9236-4ec4-9faa-495d10af865e",
        "colab": {
          "base_uri": "https://localhost:8080/",
          "height": 34
        }
      },
      "source": [
        "trans = transforms.Compose([\n",
        "    transforms.ToTensor(),\n",
        "    transforms.Normalize((0.0,), (1.0,))\n",
        "])\n",
        "\n",
        "train_set = datasets.MNIST(\n",
        "    root='', train=True, \n",
        "    transform=trans, download=True\n",
        ")\n",
        "\n",
        "test_set = datasets.MNIST(\n",
        "    root='', train=False, \n",
        "    transform=trans, download=True\n",
        ")\n",
        "\n",
        "train_loader = torch.utils.data.DataLoader(\n",
        "    dataset=train_set, batch_size=BATCH_SIZE,\n",
        "    shuffle=True\n",
        ")\n",
        "\n",
        "test_loader = torch.utils.data.DataLoader(\n",
        "    dataset=test_set, batch_size=BATCH_SIZE,\n",
        "    shuffle=False\n",
        ")\n",
        "\n",
        "print(len(train_loader), len(test_loader))"
      ],
      "execution_count": 32,
      "outputs": [
        {
          "output_type": "stream",
          "text": [
            "1875 313\n"
          ],
          "name": "stdout"
        }
      ]
    },
    {
      "cell_type": "code",
      "metadata": {
        "id": "axcuwKLskCF7",
        "colab_type": "code",
        "colab": {}
      },
      "source": [
        "net = Net(10)\n",
        "net = net.cuda()\n",
        "\n",
        "optimizer = optim.SGD(net.parameters(), lr=LR, momentum=MOMENT)\n",
        "criterion = nn.CrossEntropyLoss()"
      ],
      "execution_count": 0,
      "outputs": []
    },
    {
      "cell_type": "code",
      "metadata": {
        "id": "0D3Yk2dRnmeN",
        "colab_type": "code",
        "colab": {}
      },
      "source": [
        "def train(net, criterion, optim, loader, epoch):\n",
        "  net.train()\n",
        "  total_loss = 0\n",
        "  for data, label in loader:\n",
        "    batch_size = data.size(0)\n",
        "    \n",
        "    optim.zero_grad()\n",
        "    data, label = data.cuda(), label.cuda()\n",
        "    #data = data.view(batch_size, -1)\n",
        "    out = net(data)\n",
        "    loss = criterion(out, label)\n",
        "    \n",
        "    total_loss += loss.item()\n",
        "    \n",
        "    loss.backward()\n",
        "    optim.step()\n",
        "    \n",
        "  print(\"[%03d/%03d] avg loss: %0.4f\" %(epoch, EPOCH, total_loss/len(loader)))\n",
        "  \n",
        "def test(net, loader):\n",
        "  net.eval()\n",
        "  pred = []\n",
        "  target = []\n",
        "  for data, label in loader:\n",
        "    batch_size = data.size(0)\n",
        "    #data = data.view(batch_size, -1)\n",
        "    data = data.cuda()\n",
        "    \n",
        "    pred_batch = net(data)\n",
        "    pred_batch = pred_batch.to('cpu').detach().numpy()\n",
        "    pred_batch = np.argmax(pred_batch, 1)\n",
        "    \n",
        "    pred.append(pred_batch)\n",
        "    target.append(label.numpy())\n",
        "    \n",
        "    pred = np.concatenate(pred)\n",
        "    target = np.concatenate(target)\n",
        "    acc = (np.sum(pred == target) / len(pred))\n",
        "    \n",
        "    return pred, target, acc\n",
        "    "
      ],
      "execution_count": 0,
      "outputs": []
    },
    {
      "cell_type": "code",
      "metadata": {
        "id": "Y71ICJqssT5Q",
        "colab_type": "code",
        "outputId": "b1292ac7-2c61-4abd-9378-875e8ab2dc6c",
        "colab": {
          "base_uri": "https://localhost:8080/",
          "height": 2111
        }
      },
      "source": [
        "prediction = None\n",
        "target = None\n",
        "for epoch in range(1, EPOCH+1):\n",
        "  train(net, criterion, optimizer, train_loader, epoch)\n",
        "  if epoch % EVAL_STEP == 0:\n",
        "    with torch.no_grad():\n",
        "      prediction, target, acc = test(net, test_loader)\n",
        "      print(acc)"
      ],
      "execution_count": 35,
      "outputs": [
        {
          "output_type": "stream",
          "text": [
            "/usr/local/lib/python3.6/dist-packages/torch/nn/modules/container.py:92: UserWarning: Implicit dimension choice for softmax has been deprecated. Change the call to include dim=X as an argument.\n",
            "  input = module(input)\n"
          ],
          "name": "stderr"
        },
        {
          "output_type": "stream",
          "text": [
            "[001/080] avg loss: 2.3017\n",
            "[002/080] avg loss: 2.3015\n",
            "0.15625\n",
            "[003/080] avg loss: 2.3014\n",
            "[004/080] avg loss: 2.3015\n",
            "0.15625\n",
            "[005/080] avg loss: 2.3014\n",
            "[006/080] avg loss: 2.3014\n",
            "0.15625\n",
            "[007/080] avg loss: 2.3014\n",
            "[008/080] avg loss: 2.3012\n",
            "0.15625\n",
            "[009/080] avg loss: 2.3001\n",
            "[010/080] avg loss: 2.2728\n",
            "0.3125\n",
            "[011/080] avg loss: 2.1133\n",
            "[012/080] avg loss: 1.8398\n",
            "0.75\n",
            "[013/080] avg loss: 1.7645\n",
            "[014/080] avg loss: 1.7076\n",
            "0.75\n",
            "[015/080] avg loss: 1.6906\n",
            "[016/080] avg loss: 1.6393\n",
            "0.90625\n",
            "[017/080] avg loss: 1.6029\n",
            "[018/080] avg loss: 1.5929\n",
            "0.90625\n",
            "[019/080] avg loss: 1.5865\n",
            "[020/080] avg loss: 1.5818\n",
            "0.90625\n",
            "[021/080] avg loss: 1.5783\n",
            "[022/080] avg loss: 1.5757\n",
            "0.90625\n",
            "[023/080] avg loss: 1.5733\n",
            "[024/080] avg loss: 1.5711\n",
            "0.90625\n",
            "[025/080] avg loss: 1.5695\n",
            "[026/080] avg loss: 1.5682\n",
            "0.90625\n",
            "[027/080] avg loss: 1.5666\n",
            "[028/080] avg loss: 1.5654\n",
            "0.90625\n",
            "[029/080] avg loss: 1.5008\n",
            "[030/080] avg loss: 1.4902\n",
            "1.0\n",
            "[031/080] avg loss: 1.4867\n",
            "[032/080] avg loss: 1.4840\n",
            "1.0\n",
            "[033/080] avg loss: 1.4815\n",
            "[034/080] avg loss: 1.4799\n",
            "1.0\n",
            "[035/080] avg loss: 1.4787\n",
            "[036/080] avg loss: 1.4777\n",
            "1.0\n",
            "[037/080] avg loss: 1.4766\n",
            "[038/080] avg loss: 1.4756\n",
            "1.0\n",
            "[039/080] avg loss: 1.4749\n",
            "[040/080] avg loss: 1.4742\n",
            "1.0\n",
            "[041/080] avg loss: 1.4734\n",
            "[042/080] avg loss: 1.4728\n",
            "1.0\n",
            "[043/080] avg loss: 1.4722\n",
            "[044/080] avg loss: 1.4717\n",
            "1.0\n",
            "[045/080] avg loss: 1.4710\n",
            "[046/080] avg loss: 1.4706\n",
            "1.0\n",
            "[047/080] avg loss: 1.4703\n",
            "[048/080] avg loss: 1.4698\n",
            "1.0\n",
            "[049/080] avg loss: 1.4694\n",
            "[050/080] avg loss: 1.4692\n",
            "1.0\n",
            "[051/080] avg loss: 1.4689\n",
            "[052/080] avg loss: 1.4685\n",
            "1.0\n",
            "[053/080] avg loss: 1.4682\n",
            "[054/080] avg loss: 1.4678\n",
            "1.0\n",
            "[055/080] avg loss: 1.4675\n",
            "[056/080] avg loss: 1.4672\n",
            "1.0\n",
            "[057/080] avg loss: 1.4672\n",
            "[058/080] avg loss: 1.4668\n",
            "1.0\n",
            "[059/080] avg loss: 1.4667\n",
            "[060/080] avg loss: 1.4665\n",
            "1.0\n",
            "[061/080] avg loss: 1.4663\n",
            "[062/080] avg loss: 1.4662\n",
            "1.0\n",
            "[063/080] avg loss: 1.4659\n",
            "[064/080] avg loss: 1.4658\n",
            "1.0\n",
            "[065/080] avg loss: 1.4658\n",
            "[066/080] avg loss: 1.4657\n",
            "1.0\n",
            "[067/080] avg loss: 1.4656\n",
            "[068/080] avg loss: 1.4653\n",
            "1.0\n",
            "[069/080] avg loss: 1.4653\n",
            "[070/080] avg loss: 1.4652\n",
            "1.0\n",
            "[071/080] avg loss: 1.4651\n",
            "[072/080] avg loss: 1.4650\n",
            "1.0\n",
            "[073/080] avg loss: 1.4649\n",
            "[074/080] avg loss: 1.4649\n",
            "1.0\n",
            "[075/080] avg loss: 1.4649\n",
            "[076/080] avg loss: 1.4648\n",
            "1.0\n",
            "[077/080] avg loss: 1.4647\n",
            "[078/080] avg loss: 1.4647\n",
            "1.0\n",
            "[079/080] avg loss: 1.4646\n",
            "[080/080] avg loss: 1.4646\n",
            "1.0\n"
          ],
          "name": "stdout"
        }
      ]
    },
    {
      "cell_type": "code",
      "metadata": {
        "id": "L0E0w8F1tx1h",
        "colab_type": "code",
        "colab": {}
      },
      "source": [
        ""
      ],
      "execution_count": 0,
      "outputs": []
    }
  ]
}